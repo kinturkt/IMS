{
 "cells": [
  {
   "cell_type": "code",
   "execution_count": 25,
   "id": "e9eaaf91",
   "metadata": {},
   "outputs": [
    {
     "name": "stdout",
     "output_type": "stream",
     "text": [
      "This Is Ous Inventory Management System\n"
     ]
    }
   ],
   "source": [
    "print(\"This Is Ous Inventory Management System\")"
   ]
  },
  {
   "cell_type": "code",
   "execution_count": null,
   "id": "a6d7bd29",
   "metadata": {},
   "outputs": [],
   "source": [
    "records={1: {\"Pname\":\"Apple\", \"Pno\":1,\"Quan\":20,\"Price\":10, \"Expiry\":\"02-10-2021\"} , \n",
    "         2: {\"Pname\":\"Banana\", \"Pno\":2, \"Quan\":50, \"Price\":10, \"Expiry\":\"05-10-2021\"} ,\n",
    "         3: {\"Pname\":\"Milk\", \"Pno\":3,\"Quan\":10, \"Price\":30, \"Expiry\":\"04-09-2021\"} ,\n",
    "         4: {\"Pname\":\"Ketchup\", \"Pno\":4,\"Quan\":10, \"Price\":20, \"Expiry\":\"02-10-2022\"} ,\n",
    "         5: {\"Pname\":\"Pasta\", \"Pno\":5, \"Quan\":8, \"Price\":45, \"Expiry\":\"02-10-2021\"} , \n",
    "         6: {\"Pname\":\"Bread\", \"Pno\":6, \"Quan\":5, \"Price\":50, \"Expiry\":\"05-10-2021\"} , \n",
    "         7: {\"Pname\":\"Butter\", \"Pno\":7, \"Quan\":20, \"Price\":10, \"Expiry\":\"02-10-2021\"} ,\n",
    "         8: {\"Pname\":\"Cheese\", \"Pno\":8, \"Quan\":15, \"Price\":15, \"Expiry\":\"05-10-2021\"} , \n",
    "         9: {\"Pname\":\"Snacks\", \"Pno\":9, \"Quan\":10, \"Price\":10, \"Expiry\":\"02-10-2021\"} ,\n",
    "         10: {\"Pname\":\"Biscuits\", \"Pno\":10, \"Quan\":30, \"Price\":10, \"Expiry\":\"02-10-2021\"} , \n",
    "         11: {\"Pname\":\"Chocolates\", \"Pno\":11, \"Quan\":20, \"Price\":5, \"Expiry\":\"06-10-2021\"} ,\n",
    "         12: {\"Pname\":\"Soft Drinks\", \"Pno\":12, \"Quan\":10, \"Price\":40, \"Expiry\":\"04-10-2021\"} ,\n",
    "         13: {\"Pname\":\"Peanuts\", \"Pno\":13, \"Quan\":8, \"Price\":40, \"Expiry\":\"05-10-2021\"} ,\n",
    "         14: {\"Pname\":\"Chips\", \"Pno\":14, \"Quan\":20, \"Price\":10, \"Expiry\":\"02-10-2022\"} ,\n",
    "         15: {\"Pname\":\"Oil\", \"Pno\":15, \"Quan\":12, \"Price\":250, \"Expiry\":\"10-10-2021\"} ,\n",
    "         16: {\"Pname\":\"Rice\", \"Pno\":16, \"Quan\":20, \"Price\":350, \"Expiry\":\"06-10-2022\"} ,\n",
    "         17: {\"Pname\":\"Cereals\", \"Pno\":17, \"Quan\":30, \"Price\":300, \"Expiry\":\"04-10-2021\"} ,\n",
    "         18: {\"Pname\":\"Ghee\", \"Pno\":18, \"Quan\":5, \"Price\":500, \"Expiry\":\"06-10-2022\"} ,\n",
    "         19: {\"Pname\":\"Honey\", \"Pno\":19, \"Quan\":10, \"Price\":140, \"Expiry\":\"04-10-2021\"} ,\n",
    "         20: {\"Pname\":\"Sugar\", \"Pno\":20, \"Quan\":9, \"Price\":450, \"Expiry\":\"04-10-2021\"} ,\n",
    "        }\n",
    "\n",
    "records"
   ]
  },
  {
   "cell_type": "code",
   "execution_count": 29,
   "id": "c4662727",
   "metadata": {},
   "outputs": [
    {
     "data": {
      "text/plain": [
       "10"
      ]
     },
     "execution_count": 29,
     "metadata": {},
     "output_type": "execute_result"
    }
   ],
   "source": [
    "records[1]['Price']"
   ]
  },
  {
   "cell_type": "code",
   "execution_count": 10,
   "id": "baafb46c",
   "metadata": {},
   "outputs": [],
   "source": [
    "import json"
   ]
  },
  {
   "cell_type": "code",
   "execution_count": 11,
   "id": "4600cd5d",
   "metadata": {},
   "outputs": [
    {
     "data": {
      "text/plain": [
       "'{\"1\": {\"Pname\": \"Apple\", \"Pno\": 1, \"Quan\": 20, \"Price\": 10, \"Expiry\": \"02-10-2021\"}, \"2\": {\"Pname\": \"Banana\", \"Pno\": 2, \"Quan\": 50, \"Price\": 10, \"Expiry\": \"05-10-2021\"}, \"3\": {\"Pname\": \"Milk\", \"Pno\": 3, \"Quan\": 10, \"Price\": 30, \"Expiry\": \"04-09-2021\"}, \"4\": {\"Pname\": \"Ketchup\", \"Pno\": 4, \"Quan\": 10, \"Price\": 20, \"Expiry\": \"02-10-2022\"}, \"5\": {\"Pname\": \"Pasta\", \"Pno\": 5, \"Quan\": 8, \"Price\": 45, \"Expiry\": \"02-10-2021\"}, \"6\": {\"Pname\": \"Bread\", \"Pno\": 6, \"Quan\": 5, \"Price\": 50, \"Expiry\": \"05-10-2021\"}, \"7\": {\"Pname\": \"Butter\", \"Pno\": 7, \"Quan\": 20, \"Price\": 10, \"Expiry\": \"02-10-2021\"}, \"8\": {\"Pname\": \"Cheese\", \"Pno\": 8, \"Quan\": 15, \"Price\": 15, \"Expiry\": \"05-10-2021\"}, \"9\": {\"Pname\": \"Snacks\", \"Pno\": 9, \"Quan\": 10, \"Price\": 10, \"Expiry\": \"02-10-2021\"}, \"10\": {\"Pname\": \"Biscuits\", \"Pno\": 10, \"Quan\": 30, \"Price\": 10, \"Expiry\": \"02-10-2021\"}, \"11\": {\"Pname\": \"Chocolates\", \"Pno\": 11, \"Quan\": 20, \"Price\": 5, \"Expiry\": \"06-10-2021\"}, \"12\": {\"Pname\": \"Soft Drinks\", \"Pno\": 12, \"Quan\": 10, \"Price\": 40, \"Expiry\": \"04-10-2021\"}, \"13\": {\"Pname\": \"Peanuts\", \"Pno\": 13, \"Quan\": 8, \"Price\": 40, \"Expiry\": \"05-10-2021\"}, \"14\": {\"Pname\": \"Chips\", \"Pno\": 14, \"Quan\": 20, \"Price\": 10, \"Expiry\": \"02-10-2022\"}, \"15\": {\"Pname\": \"Oil\", \"Pno\": 15, \"Quan\": 12, \"Price\": 250, \"Expiry\": \"10-10-2021\"}, \"16\": {\"Pname\": \"Rice\", \"Pno\": 16, \"Quan\": 20, \"Price\": 350, \"Expiry\": \"06-10-2022\"}, \"17\": {\"Pname\": \"Cereals\", \"Pno\": 17, \"Quan\": 30, \"Price\": 300, \"Expiry\": \"04-10-2021\"}, \"18\": {\"Pname\": \"Ghee\", \"Pno\": 18, \"Quan\": 5, \"Price\": 500, \"Expiry\": \"06-10-2022\"}, \"19\": {\"Pname\": \"Honey\", \"Pno\": 19, \"Quan\": 10, \"Price\": 140, \"Expiry\": \"04-10-2021\"}, \"20\": {\"Pname\": \"Sugar\", \"Pno\": 20, \"Quan\": 9, \"Price\": 450, \"Expiry\": \"04-10-2021\"}}'"
      ]
     },
     "execution_count": 11,
     "metadata": {},
     "output_type": "execute_result"
    }
   ],
   "source": [
    "js=json.dumps(records)\n",
    "js"
   ]
  },
  {
   "cell_type": "markdown",
   "id": "ea3687d1",
   "metadata": {},
   "source": [
    "# Add new item to inventory"
   ]
  },
  {
   "cell_type": "code",
   "execution_count": null,
   "id": "d62a39f3",
   "metadata": {},
   "outputs": [],
   "source": [
    "Pno = str(input(\"Enter Product no:\"))\n",
    "Pname = str(input(\"Enter Name:\"))\n",
    "Price = int(input(\"Enter Price:\"))\n",
    "Quan = int(input(\"Enter Quantity:\"))\n",
    "Expiry= str(input(\"Enter Expiry\"))\n",
    "\n",
    "records[Pname] = {'Pname': 'name', 'Pno': 'Pno', 'Quan': 'Quan', 'Expiry': 'Expiry'}\n",
    "\n",
    "js = json.dumps(records)\n",
    "\n",
    "fd = open(\"records.json\",\"w\")\n",
    "fd.write(js)\n",
    "fd.close()"
   ]
  },
  {
   "cell_type": "code",
   "execution_count": null,
   "id": "39275b84",
   "metadata": {},
   "outputs": [],
   "source": [
    "print(records)"
   ]
  },
  {
   "cell_type": "code",
   "execution_count": null,
   "id": "67dd7658",
   "metadata": {},
   "outputs": [],
   "source": [
    "import time\n",
    "\n",
    "t = time.ctime()"
   ]
  },
  {
   "cell_type": "code",
   "execution_count": null,
   "id": "83fc70e5",
   "metadata": {},
   "outputs": [],
   "source": []
  },
  {
   "cell_type": "code",
   "execution_count": null,
   "id": "5cdb915c",
   "metadata": {},
   "outputs": [],
   "source": []
  }
 ],
 "metadata": {
  "kernelspec": {
   "display_name": "Python 3 (ipykernel)",
   "language": "python",
   "name": "python3"
  },
  "language_info": {
   "codemirror_mode": {
    "name": "ipython",
    "version": 3
   },
   "file_extension": ".py",
   "mimetype": "text/x-python",
   "name": "python",
   "nbconvert_exporter": "python",
   "pygments_lexer": "ipython3",
   "version": "3.9.5"
  }
 },
 "nbformat": 4,
 "nbformat_minor": 5
}
