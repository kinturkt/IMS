{
 "cells": [
  {
   "cell_type": "code",
   "execution_count": 2,
   "id": "a04f319e",
   "metadata": {},
   "outputs": [
    {
     "data": {
      "text/plain": [
       "'Mon Sep  6 17:00:08 2021'"
      ]
     },
     "execution_count": 2,
     "metadata": {},
     "output_type": "execute_result"
    }
   ],
   "source": [
    "import time\n",
    "\n",
    "t = time.ctime()\n",
    "t"
   ]
  },
  {
   "cell_type": "markdown",
   "id": "d103f357",
   "metadata": {},
   "source": [
    "# Read Inventory\n"
   ]
  },
  {
   "cell_type": "code",
   "execution_count": 11,
   "id": "74d19525",
   "metadata": {},
   "outputs": [],
   "source": [
    "import json\n",
    "\n",
    "fd = open(\"records.json\",'r')\n",
    "r = fd.read()\n",
    "fd.close()"
   ]
  },
  {
   "cell_type": "markdown",
   "id": "0dbe56d4",
   "metadata": {},
   "source": [
    "# Purchase"
   ]
  },
  {
   "cell_type": "code",
   "execution_count": null,
   "id": "a3543b5c",
   "metadata": {},
   "outputs": [],
   "source": [
    "ui_prod  = str(input(\"Enter the product no: \"))\n",
    "ui_quant = int(input(\"Enter the quantity: \"))\n",
    "\n",
    "\n",
    "print(\"Product: \", records[ui_prod]['Pname'])\n",
    "print(\"Price: \", records[ui_prod]['Price'])\n",
    "print(\"Billing Amount: \", records[ui_prod][''] * ui_quant)\n",
    "\n",
    "records[ui_prod]['Quan'] = records[ui_prod]['Quan'] - ui_quant"
   ]
  },
  {
   "cell_type": "markdown",
   "id": "1d259c96",
   "metadata": {},
   "source": [
    "# Update Inventory After Purchase"
   ]
  },
  {
   "cell_type": "code",
   "execution_count": null,
   "id": "0c0ab7e6",
   "metadata": {},
   "outputs": [],
   "source": [
    "js = json.dumps(records)\n",
    "\n",
    "fd = open(\"records.json\",'w')\n",
    "fd.write(js)\n",
    "fd.close()"
   ]
  },
  {
   "cell_type": "markdown",
   "id": "c7539fd0",
   "metadata": {},
   "source": [
    "# Sales"
   ]
  },
  {
   "cell_type": "code",
   "execution_count": null,
   "id": "c567ae9f",
   "metadata": {},
   "outputs": [],
   "source": [
    "\n",
    "{'Pno' : ui_prod, 'Quan' : ui_quant, 'amount': records[ui_prod]['pr'] * ui_quant}\n"
   ]
  },
  {
   "cell_type": "code",
   "execution_count": null,
   "id": "bdca97ad",
   "metadata": {},
   "outputs": [],
   "source": [
    "sale = json.dumps(sales)"
   ]
  },
  {
   "cell_type": "code",
   "execution_count": null,
   "id": "1b0d01aa",
   "metadata": {},
   "outputs": [],
   "source": []
  }
 ],
 "metadata": {
  "kernelspec": {
   "display_name": "Python 3 (ipykernel)",
   "language": "python",
   "name": "python3"
  },
  "language_info": {
   "codemirror_mode": {
    "name": "ipython",
    "version": 3
   },
   "file_extension": ".py",
   "mimetype": "text/x-python",
   "name": "python",
   "nbconvert_exporter": "python",
   "pygments_lexer": "ipython3",
   "version": "3.9.5"
  }
 },
 "nbformat": 4,
 "nbformat_minor": 5
}
